{
 "cells": [
  {
   "cell_type": "code",
   "execution_count": 29,
   "metadata": {},
   "outputs": [],
   "source": [
    "import os\n",
    "import selenium\n",
    "from selenium import webdriver\n",
    "import time\n",
    "from PIL import Image\n",
    "import io\n",
    "import requests\n",
    "from webdriver_manager.chrome import ChromeDriverManager\n",
    "from selenium.common.exceptions import ElementClickInterceptedException"
   ]
  },
  {
   "cell_type": "code",
   "execution_count": 40,
   "metadata": {},
   "outputs": [
    {
     "name": "stderr",
     "output_type": "stream",
     "text": [
      "\n",
      "\n",
      "====== WebDriver manager ======\n",
      "Current google-chrome version is 99.0.4844\n",
      "Get LATEST chromedriver version for 99.0.4844 google-chrome\n",
      "Driver [C:\\Users\\ACER\\.wdm\\drivers\\chromedriver\\win32\\99.0.4844.51\\chromedriver.exe] found in cache\n",
      "C:\\Users\\ACER\\AppData\\Local\\Temp/ipykernel_16608/2409737876.py:2: DeprecationWarning: executable_path has been deprecated, please pass in a Service object\n",
      "  driver = webdriver.Chrome(ChromeDriverManager().install())\n"
     ]
    }
   ],
   "source": [
    "#Install Driver\n",
    "driver = webdriver.Chrome(ChromeDriverManager().install())"
   ]
  },
  {
   "cell_type": "code",
   "execution_count": 41,
   "metadata": {},
   "outputs": [],
   "source": [
    "#Specify Search URL\n",
    "search_url=\"https://www.google.com/search?q={q}&tbm=isch&tbs=sur%3Afc&hl=en&ved=0CAIQpwVqFwoTCKCa1c6s4-oCFQAAAAAdAAAAABAC&biw=1251&bih=568\" \n",
    "\n",
    "driver.get(search_url.format(q='House'))"
   ]
  },
  {
   "cell_type": "code",
   "execution_count": 42,
   "metadata": {},
   "outputs": [],
   "source": [
    "#Scroll to the end of the page\n",
    "driver.execute_script(\"window.scrollTo(0, document.body.scrollHeight);\")\n",
    "time.sleep(5)#sleep_between_interactions"
   ]
  },
  {
   "cell_type": "code",
   "execution_count": 43,
   "metadata": {},
   "outputs": [
    {
     "name": "stderr",
     "output_type": "stream",
     "text": [
      "C:\\Users\\ACER\\AppData\\Local\\Temp/ipykernel_16608/2033724768.py:2: DeprecationWarning: find_elements_by_xpath is deprecated. Please use find_elements(by=By.XPATH, value=xpath) instead\n",
      "  imgResults = driver.find_elements_by_xpath(\"//img[contains(@class,'Q4LuWd')]\")\n"
     ]
    }
   ],
   "source": [
    "#Locate the images to be scraped from the current page \n",
    "imgResults = driver.find_elements_by_xpath(\"//img[contains(@class,'Q4LuWd')]\")\n",
    "totalResults=len(imgResults)"
   ]
  },
  {
   "cell_type": "code",
   "execution_count": 44,
   "metadata": {},
   "outputs": [
    {
     "name": "stderr",
     "output_type": "stream",
     "text": [
      "C:\\Users\\ACER\\AppData\\Local\\Temp/ipykernel_16608/666296533.py:9: DeprecationWarning: find_elements_by_css_selector is deprecated. Please use find_elements(by=By.CSS_SELECTOR, value=css_selector) instead\n",
      "  actual_images = driver.find_elements_by_css_selector('img.n3VNCb')\n"
     ]
    },
    {
     "name": "stdout",
     "output_type": "stream",
     "text": [
      "Message: element click intercepted: Element <img data-ils=\"4\" jsaction=\"rcuQ6b:trigger.M8vzZb;\" class=\"rg_i Q4LuWd\" jsname=\"Q4LuWd\" width=\"134\" height=\"200\" alt=\"Ha House, Ho Chi Minh City, Vietnam / VTN Architects — urdesignmag\" src=\"https://encrypted-tbn0.gstatic.com/images?q=tbn:ANd9GcSyf-JsiVK-ZLxVs1ms8sJ8Ni49xkPuZ3PJSA&amp;usqp=CAU\"> is not clickable at point (115, 643). Other element would receive the click: <div jsname=\"r5xl4\" class=\"islrc\" style=\"width: 551px;\">...</div>\n",
      "  (Session info: chrome=99.0.4844.82)\n",
      "Stacktrace:\n",
      "Backtrace:\n",
      "\tOrdinal0 [0x01119943+2595139]\n",
      "\tOrdinal0 [0x010AC9F1+2148849]\n",
      "\tOrdinal0 [0x00FA4528+1066280]\n",
      "\tOrdinal0 [0x00FD7621+1275425]\n",
      "\tOrdinal0 [0x00FD5657+1267287]\n",
      "\tOrdinal0 [0x00FD333B+1258299]\n",
      "\tOrdinal0 [0x00FD207D+1253501]\n",
      "\tOrdinal0 [0x00FC7AB3+1211059]\n",
      "\tOrdinal0 [0x00FEB9EC+1358316]\n",
      "\tOrdinal0 [0x00FC7474+1209460]\n",
      "\tOrdinal0 [0x00FEBC04+1358852]\n",
      "\tOrdinal0 [0x00FFBAF2+1424114]\n",
      "\tOrdinal0 [0x00FEB806+1357830]\n",
      "\tOrdinal0 [0x00FC6086+1204358]\n",
      "\tOrdinal0 [0x00FC6F96+1208214]\n",
      "\tGetHandleVerifier [0x012BB232+1658114]\n",
      "\tGetHandleVerifier [0x0137312C+2411516]\n",
      "\tGetHandleVerifier [0x011AF261+560433]\n",
      "\tGetHandleVerifier [0x011AE366+556598]\n",
      "\tOrdinal0 [0x010B286B+2173035]\n",
      "\tOrdinal0 [0x010B75F8+2192888]\n",
      "\tOrdinal0 [0x010B76E5+2193125]\n",
      "\tOrdinal0 [0x010C11FC+2232828]\n",
      "\tBaseThreadInitThunk [0x76716739+25]\n",
      "\tRtlGetFullPathName_UEx [0x77D58E7F+1215]\n",
      "\tRtlGetFullPathName_UEx [0x77D58E4D+1165]\n",
      "\n",
      "Message: element click intercepted: Element <img data-ils=\"4\" jsaction=\"rcuQ6b:trigger.M8vzZb;\" class=\"rg_i Q4LuWd\" jsname=\"Q4LuWd\" width=\"275\" height=\"184\" alt=\"Free Images : image, house, roof, cottage, rural area, farmhouse, land lot,  shack, hut, building, home, farm, sky, grass, tree, croft, thatching,  prairie, village, shed, meadow, log cabin, road 3349x2233 - paul -\" src=\"https://encrypted-tbn0.gstatic.com/images?q=tbn:ANd9GcSOhBlzTzRfEdMcna85bMiZgrBHYLAjLUUZsA&amp;usqp=CAU\"> is not clickable at point (390, 647). Other element would receive the click: <div jsname=\"r5xl4\" class=\"islrc\" style=\"width: 551px;\">...</div>\n",
      "  (Session info: chrome=99.0.4844.82)\n",
      "Stacktrace:\n",
      "Backtrace:\n",
      "\tOrdinal0 [0x01119943+2595139]\n",
      "\tOrdinal0 [0x010AC9F1+2148849]\n",
      "\tOrdinal0 [0x00FA4528+1066280]\n",
      "\tOrdinal0 [0x00FD7621+1275425]\n",
      "\tOrdinal0 [0x00FD5657+1267287]\n",
      "\tOrdinal0 [0x00FD333B+1258299]\n",
      "\tOrdinal0 [0x00FD207D+1253501]\n",
      "\tOrdinal0 [0x00FC7AB3+1211059]\n",
      "\tOrdinal0 [0x00FEB9EC+1358316]\n",
      "\tOrdinal0 [0x00FC7474+1209460]\n",
      "\tOrdinal0 [0x00FEBC04+1358852]\n",
      "\tOrdinal0 [0x00FFBAF2+1424114]\n",
      "\tOrdinal0 [0x00FEB806+1357830]\n",
      "\tOrdinal0 [0x00FC6086+1204358]\n",
      "\tOrdinal0 [0x00FC6F96+1208214]\n",
      "\tGetHandleVerifier [0x012BB232+1658114]\n",
      "\tGetHandleVerifier [0x0137312C+2411516]\n",
      "\tGetHandleVerifier [0x011AF261+560433]\n",
      "\tGetHandleVerifier [0x011AE366+556598]\n",
      "\tOrdinal0 [0x010B286B+2173035]\n",
      "\tOrdinal0 [0x010B75F8+2192888]\n",
      "\tOrdinal0 [0x010B76E5+2193125]\n",
      "\tOrdinal0 [0x010C11FC+2232828]\n",
      "\tBaseThreadInitThunk [0x76716739+25]\n",
      "\tRtlGetFullPathName_UEx [0x77D58E7F+1215]\n",
      "\tRtlGetFullPathName_UEx [0x77D58E4D+1165]\n",
      "\n",
      "Message: element click intercepted: Element <img data-ils=\"4\" jsaction=\"rcuQ6b:trigger.M8vzZb;\" class=\"rg_i Q4LuWd\" jsname=\"Q4LuWd\" width=\"225\" height=\"225\" alt=\"House drawing | Free SVG\" src=\"https://encrypted-tbn0.gstatic.com/images?q=tbn:ANd9GcR8E4fie_NVCwSNaiwygBsKtHxr7RISt8D4OQ&amp;usqp=CAU\"> is not clickable at point (135, 640). Other element would receive the click: <div jsname=\"r5xl4\" class=\"islrc\" style=\"width: 551px;\">...</div>\n",
      "  (Session info: chrome=99.0.4844.82)\n",
      "Stacktrace:\n",
      "Backtrace:\n",
      "\tOrdinal0 [0x01119943+2595139]\n",
      "\tOrdinal0 [0x010AC9F1+2148849]\n",
      "\tOrdinal0 [0x00FA4528+1066280]\n",
      "\tOrdinal0 [0x00FD7621+1275425]\n",
      "\tOrdinal0 [0x00FD5657+1267287]\n",
      "\tOrdinal0 [0x00FD333B+1258299]\n",
      "\tOrdinal0 [0x00FD207D+1253501]\n",
      "\tOrdinal0 [0x00FC7AB3+1211059]\n",
      "\tOrdinal0 [0x00FEB9EC+1358316]\n",
      "\tOrdinal0 [0x00FC7474+1209460]\n",
      "\tOrdinal0 [0x00FEBC04+1358852]\n",
      "\tOrdinal0 [0x00FFBAF2+1424114]\n",
      "\tOrdinal0 [0x00FEB806+1357830]\n",
      "\tOrdinal0 [0x00FC6086+1204358]\n",
      "\tOrdinal0 [0x00FC6F96+1208214]\n",
      "\tGetHandleVerifier [0x012BB232+1658114]\n",
      "\tGetHandleVerifier [0x0137312C+2411516]\n",
      "\tGetHandleVerifier [0x011AF261+560433]\n",
      "\tGetHandleVerifier [0x011AE366+556598]\n",
      "\tOrdinal0 [0x010B286B+2173035]\n",
      "\tOrdinal0 [0x010B75F8+2192888]\n",
      "\tOrdinal0 [0x010B76E5+2193125]\n",
      "\tOrdinal0 [0x010C11FC+2232828]\n",
      "\tBaseThreadInitThunk [0x76716739+25]\n",
      "\tRtlGetFullPathName_UEx [0x77D58E7F+1215]\n",
      "\tRtlGetFullPathName_UEx [0x77D58E4D+1165]\n",
      "\n",
      "Message: element click intercepted: Element <img data-ils=\"4\" jsaction=\"rcuQ6b:trigger.M8vzZb;\" class=\"rg_i Q4LuWd\" jsname=\"Q4LuWd\" width=\"200\" height=\"200\" alt=\"House 3D art green color | Free SVG\" src=\"https://encrypted-tbn0.gstatic.com/images?q=tbn:ANd9GcQpBF8KjWGqtbw6QlSjhhgHnWEKb_SQU9hZDg&amp;usqp=CAU\"> is not clickable at point (133, 641). Other element would receive the click: <div jsname=\"r5xl4\" class=\"islrc\" style=\"width: 551px;\">...</div>\n",
      "  (Session info: chrome=99.0.4844.82)\n",
      "Stacktrace:\n",
      "Backtrace:\n",
      "\tOrdinal0 [0x01119943+2595139]\n",
      "\tOrdinal0 [0x010AC9F1+2148849]\n",
      "\tOrdinal0 [0x00FA4528+1066280]\n",
      "\tOrdinal0 [0x00FD7621+1275425]\n",
      "\tOrdinal0 [0x00FD5657+1267287]\n",
      "\tOrdinal0 [0x00FD333B+1258299]\n",
      "\tOrdinal0 [0x00FD207D+1253501]\n",
      "\tOrdinal0 [0x00FC7AB3+1211059]\n",
      "\tOrdinal0 [0x00FEB9EC+1358316]\n",
      "\tOrdinal0 [0x00FC7474+1209460]\n",
      "\tOrdinal0 [0x00FEBC04+1358852]\n",
      "\tOrdinal0 [0x00FFBAF2+1424114]\n",
      "\tOrdinal0 [0x00FEB806+1357830]\n",
      "\tOrdinal0 [0x00FC6086+1204358]\n",
      "\tOrdinal0 [0x00FC6F96+1208214]\n",
      "\tGetHandleVerifier [0x012BB232+1658114]\n",
      "\tGetHandleVerifier [0x0137312C+2411516]\n",
      "\tGetHandleVerifier [0x011AF261+560433]\n",
      "\tGetHandleVerifier [0x011AE366+556598]\n",
      "\tOrdinal0 [0x010B286B+2173035]\n",
      "\tOrdinal0 [0x010B75F8+2192888]\n",
      "\tOrdinal0 [0x010B76E5+2193125]\n",
      "\tOrdinal0 [0x010C11FC+2232828]\n",
      "\tBaseThreadInitThunk [0x76716739+25]\n",
      "\tRtlGetFullPathName_UEx [0x77D58E7F+1215]\n",
      "\tRtlGetFullPathName_UEx [0x77D58E4D+1165]\n",
      "\n",
      "Message: element click intercepted: Element <img data-ils=\"4\" jsaction=\"rcuQ6b:trigger.M8vzZb;\" class=\"rg_i Q4LuWd\" jsname=\"Q4LuWd\" width=\"259\" height=\"195\" alt=\"File:A Hobbit House.jpg - Wikimedia Commons\" src=\"https://encrypted-tbn0.gstatic.com/images?q=tbn:ANd9GcSEnQjQa-b7RUZ1s-x9-mBapxJ1vXjYj4bT-A&amp;usqp=CAU\"> is not clickable at point (408, 643). Other element would receive the click: <div jsname=\"r5xl4\" class=\"islrc\" style=\"width: 551px;\">...</div>\n",
      "  (Session info: chrome=99.0.4844.82)\n",
      "Stacktrace:\n",
      "Backtrace:\n",
      "\tOrdinal0 [0x01119943+2595139]\n",
      "\tOrdinal0 [0x010AC9F1+2148849]\n",
      "\tOrdinal0 [0x00FA4528+1066280]\n",
      "\tOrdinal0 [0x00FD7621+1275425]\n",
      "\tOrdinal0 [0x00FD5657+1267287]\n",
      "\tOrdinal0 [0x00FD333B+1258299]\n",
      "\tOrdinal0 [0x00FD207D+1253501]\n",
      "\tOrdinal0 [0x00FC7AB3+1211059]\n",
      "\tOrdinal0 [0x00FEB9EC+1358316]\n",
      "\tOrdinal0 [0x00FC7474+1209460]\n",
      "\tOrdinal0 [0x00FEBC04+1358852]\n",
      "\tOrdinal0 [0x00FFBAF2+1424114]\n",
      "\tOrdinal0 [0x00FEB806+1357830]\n",
      "\tOrdinal0 [0x00FC6086+1204358]\n",
      "\tOrdinal0 [0x00FC6F96+1208214]\n",
      "\tGetHandleVerifier [0x012BB232+1658114]\n",
      "\tGetHandleVerifier [0x0137312C+2411516]\n",
      "\tGetHandleVerifier [0x011AF261+560433]\n",
      "\tGetHandleVerifier [0x011AE366+556598]\n",
      "\tOrdinal0 [0x010B286B+2173035]\n",
      "\tOrdinal0 [0x010B75F8+2192888]\n",
      "\tOrdinal0 [0x010B76E5+2193125]\n",
      "\tOrdinal0 [0x010C11FC+2232828]\n",
      "\tBaseThreadInitThunk [0x76716739+25]\n",
      "\tRtlGetFullPathName_UEx [0x77D58E7F+1215]\n",
      "\tRtlGetFullPathName_UEx [0x77D58E4D+1165]\n",
      "\n"
     ]
    }
   ],
   "source": [
    "#Click on each Image to extract its corresponding link to download\n",
    "\n",
    "img_urls = set()\n",
    "for i in  range(0,len(imgResults)):\n",
    "    img=imgResults[i]\n",
    "    try:\n",
    "        img.click()\n",
    "        time.sleep(2)\n",
    "        actual_images = driver.find_elements_by_css_selector('img.n3VNCb')\n",
    "        for actual_image in actual_images:\n",
    "            if actual_image.get_attribute('src') and 'https' in actual_image.get_attribute('src'):\n",
    "                img_urls.add(actual_image.get_attribute('src'))\n",
    "    except ElementClickInterceptedException or ElementNotInteractableException as err:\n",
    "        print(err)\n"
   ]
  },
  {
   "cell_type": "code",
   "execution_count": 46,
   "metadata": {},
   "outputs": [
    {
     "data": {
      "text/plain": [
       "62"
      ]
     },
     "execution_count": 46,
     "metadata": {},
     "output_type": "execute_result"
    }
   ],
   "source": [
    "len(img_urls)"
   ]
  },
  {
   "cell_type": "code",
   "execution_count": 50,
   "metadata": {},
   "outputs": [],
   "source": [
    "#Download & save each image in the Destination directory\n",
    "os.chdir('C:/LTQ/Nam_3/Multimedia/House')\n",
    "baseDir=os.getcwd()"
   ]
  },
  {
   "cell_type": "code",
   "execution_count": 53,
   "metadata": {},
   "outputs": [
    {
     "name": "stdout",
     "output_type": "stream",
     "text": [
      "SAVED - https://encrypted-tbn0.gstatic.com/images?q=tbn:ANd9GcTgToHYxsjoSdINPTEBubcJt61gu-iV1Tyn2g&usqp=CAU - AT: C:\\LTQ\\Nam_3\\Multimedia\\House\\                                                                                                                                                     0.jpg\n",
      "SAVED - https://encrypted-tbn0.gstatic.com/images?q=tbn:ANd9GcSfIdzftOd9wXGPs_E1jsjwb1a-bg0ThLtyzw&usqp=CAU - AT: C:\\LTQ\\Nam_3\\Multimedia\\House\\                                                                                                                                                     1.jpg\n",
      "ERROR - COULD NOT SAVE https://upload.wikimedia.org/wikipedia/en/thumb/f/f2/Pettengill_House.jpeg/2560px-Pettengill_House.jpeg - cannot identify image file <_io.BytesIO object at 0x00BB3AC8>\n",
      "SAVED - https://cdn.pixabay.com/photo/2020/12/09/02/30/house-silhouette-5816213_960_720.png - AT: C:\\LTQ\\Nam_3\\Multimedia\\House\\                                                                                                                                                     3.jpg\n",
      "SAVED - https://encrypted-tbn0.gstatic.com/images?q=tbn:ANd9GcS2WWDGkCRjGqgAYmgH-8FVxcMUIfpy0MiaLA&usqp=CAU - AT: C:\\LTQ\\Nam_3\\Multimedia\\House\\                                                                                                                                                     4.jpg\n",
      "SAVED - https://www.tripsavvy.com/thmb/mKDUQH5717reCAt07gMsEL6U2WQ=/1115x1115/smart/filters:no_upscale()/ho_chi_minh_stilt_house-5832e2b43df78c6f6a4578a5.jpg - AT: C:\\LTQ\\Nam_3\\Multimedia\\House\\                                                                                                                                                     5.jpg\n",
      "SAVED - https://c1.wallpaperflare.com/preview/898/739/769/home-for-sale-house-estate.jpg - AT: C:\\LTQ\\Nam_3\\Multimedia\\House\\                                                                                                                                                     6.jpg\n",
      "SAVED - https://encrypted-tbn0.gstatic.com/images?q=tbn:ANd9GcQhhO8CLv_k6-ioa_wgA6QYxZbdt9CoxWcTEw&usqp=CAU - AT: C:\\LTQ\\Nam_3\\Multimedia\\House\\                                                                                                                                                     7.jpg\n",
      "SAVED - https://c1.wallpaperflare.com/preview/267/41/305/house-townhouse-house-exterior-american.jpg - AT: C:\\LTQ\\Nam_3\\Multimedia\\House\\                                                                                                                                                     8.jpg\n",
      "SAVED - https://live.staticflickr.com/2172/2407030202_7bd91d4ab1_b.jpg - AT: C:\\LTQ\\Nam_3\\Multimedia\\House\\                                                                                                                                                     9.jpg\n",
      "SAVED - https://encrypted-tbn0.gstatic.com/images?q=tbn:ANd9GcRBKRVseG875r2nu85WxGlqlhra0pKj64JYKA&usqp=CAU - AT: C:\\LTQ\\Nam_3\\Multimedia\\House\\                                                                                                                                                    10.jpg\n",
      "SAVED - https://www.maxpixel.net/static/photo/1x/Architecture-House-Modern-House-Design-Modern-House-5556075.jpg - AT: C:\\LTQ\\Nam_3\\Multimedia\\House\\                                                                                                                                                    11.jpg\n",
      "SAVED - https://1.bp.blogspot.com/-iXKdcaISXWc/T1ey9KCpDCI/AAAAAAAAEo0/0oAjTCfNCGs/s1600/Casa-Ho-Chi-Minh-Hanoi.JPG - AT: C:\\LTQ\\Nam_3\\Multimedia\\House\\                                                                                                                                                    12.jpg\n",
      "SAVED - https://encrypted-tbn0.gstatic.com/images?q=tbn:ANd9GcRAiy7xNbiEvObJ9es5huZ1SX0i_EPIGkfXIA&usqp=CAU - AT: C:\\LTQ\\Nam_3\\Multimedia\\House\\                                                                                                                                                    13.jpg\n",
      "SAVED - https://encrypted-tbn0.gstatic.com/images?q=tbn:ANd9GcQpBF8KjWGqtbw6QlSjhhgHnWEKb_SQU9hZDg&usqp=CAU - AT: C:\\LTQ\\Nam_3\\Multimedia\\House\\                                                                                                                                                    14.jpg\n",
      "SAVED - https://www.rustycompass.com/uploads/destinations/ho-chi-minhs-house-on-stilts1116b-0001_14803089539.jpg - AT: C:\\LTQ\\Nam_3\\Multimedia\\House\\                                                                                                                                                    15.jpg\n",
      "SAVED - https://www.nps.gov/york/learn/historyculture/images/IMG_5689r-688.jpg?maxwidth=1200&maxheight=1200&autorotate=false - AT: C:\\LTQ\\Nam_3\\Multimedia\\House\\                                                                                                                                                    16.jpg\n",
      "SAVED - https://cdn.pixabay.com/photo/2019/06/15/22/30/modern-house-4276595_960_720.png - AT: C:\\LTQ\\Nam_3\\Multimedia\\House\\                                                                                                                                                    17.jpg\n",
      "SAVED - https://cdn.pixabay.com/photo/2020/12/09/02/30/house-5816214_960_720.png - AT: C:\\LTQ\\Nam_3\\Multimedia\\House\\                                                                                                                                                    18.jpg\n",
      "SAVED - https://encrypted-tbn0.gstatic.com/images?q=tbn:ANd9GcTD1pDbo4lz4jWTmN00oQEzs95_OU433m_fWg&usqp=CAU - AT: C:\\LTQ\\Nam_3\\Multimedia\\House\\                                                                                                                                                    19.jpg\n",
      "SAVED - https://encrypted-tbn0.gstatic.com/images?q=tbn:ANd9GcR8E4fie_NVCwSNaiwygBsKtHxr7RISt8D4OQ&usqp=CAU - AT: C:\\LTQ\\Nam_3\\Multimedia\\House\\                                                                                                                                                    20.jpg\n",
      "SAVED - https://c0.wallpaperflare.com/preview/856/367/784/various-home-house-houses.jpg - AT: C:\\LTQ\\Nam_3\\Multimedia\\House\\                                                                                                                                                    21.jpg\n",
      "SAVED - https://encrypted-tbn0.gstatic.com/images?q=tbn:ANd9GcSvr4kna5eW6yyr91Q3Bq_yKQOFup6hKy_rcg&usqp=CAU - AT: C:\\LTQ\\Nam_3\\Multimedia\\House\\                                                                                                                                                    22.jpg\n",
      "SAVED - https://encrypted-tbn0.gstatic.com/images?q=tbn:ANd9GcRKUlq2Jlsq6jVzr2GptxUAxqySWvR94vegDQ&usqp=CAU - AT: C:\\LTQ\\Nam_3\\Multimedia\\House\\                                                                                                                                                    23.jpg\n",
      "SAVED - https://media.defense.gov/2012/Jul/19/2000133019/-1/-1/0/120717-F-LG169-042.JPG - AT: C:\\LTQ\\Nam_3\\Multimedia\\House\\                                                                                                                                                    24.jpg\n",
      "ERROR - COULD NOT SAVE https://upload.wikimedia.org/wikipedia/commons/thumb/4/40/Beinan_Taitung_Taiwan_Aboriginal-Stilt-House-01.jpg/2560px-Beinan_Taitung_Taiwan_Aboriginal-Stilt-House-01.jpg - cannot identify image file <_io.BytesIO object at 0x00968140>\n",
      "SAVED - https://www.urdesignmag.com/wp-content/uploads/2021/02/thd-house-ho-chi-minh-city-vn-ad9-architects-2.jpg - AT: C:\\LTQ\\Nam_3\\Multimedia\\House\\                                                                                                                                                    26.jpg\n",
      "SAVED - https://encrypted-tbn0.gstatic.com/images?q=tbn:ANd9GcScO0IO6-Ak2RLiM8sf9e8WkiQh7xzvY1lwmg&usqp=CAU - AT: C:\\LTQ\\Nam_3\\Multimedia\\House\\                                                                                                                                                    27.jpg\n",
      "ERROR - COULD NOT SAVE https://upload.wikimedia.org/wikipedia/commons/thumb/8/84/Old-house.jpg_-_panoramio.jpg/2560px-Old-house.jpg_-_panoramio.jpg - cannot identify image file <_io.BytesIO object at 0x00C37820>\n"
     ]
    },
    {
     "name": "stdout",
     "output_type": "stream",
     "text": [
      "SAVED - https://www.nps.gov/york/learn/historyculture/images/IMG_5638R688.jpg?maxwidth=1200&maxheight=1200&autorotate=false - AT: C:\\LTQ\\Nam_3\\Multimedia\\House\\                                                                                                                                                    29.jpg\n",
      "SAVED - https://p1.pxfuel.com/preview/408/93/149/small-house-house-pierre-brick-old-former.jpg - AT: C:\\LTQ\\Nam_3\\Multimedia\\House\\                                                                                                                                                    30.jpg\n",
      "SAVED - https://www.maxpixel.net/static/photo/1x/Crazy-House-Vietnam-Home-Dalat-Landscape-4949917.jpg - AT: C:\\LTQ\\Nam_3\\Multimedia\\House\\                                                                                                                                                    31.jpg\n",
      "SAVED - https://encrypted-tbn0.gstatic.com/images?q=tbn:ANd9GcQ-6H7ZAVBEUa-XrnD7eVNSV2QLGBy04SBAfQ&usqp=CAU - AT: C:\\LTQ\\Nam_3\\Multimedia\\House\\                                                                                                                                                    32.jpg\n",
      "SAVED - https://i0.hippopx.com/photos/610/428/976/english-house-victorian-house-architecture-street-preview.jpg - AT: C:\\LTQ\\Nam_3\\Multimedia\\House\\                                                                                                                                                    33.jpg\n",
      "SAVED - https://freesvg.org/img/House-1.png - AT: C:\\LTQ\\Nam_3\\Multimedia\\House\\                                                                                                                                                    34.jpg\n",
      "SAVED - https://encrypted-tbn0.gstatic.com/images?q=tbn:ANd9GcSd4rPKWjIx-WptCjw5pomMGrwYRmqcajfmjA&usqp=CAU - AT: C:\\LTQ\\Nam_3\\Multimedia\\House\\                                                                                                                                                    35.jpg\n",
      "SAVED - https://encrypted-tbn0.gstatic.com/images?q=tbn:ANd9GcS23-FJOwezLNhoTaa-6RU0kLPWGMHEpIHIJA&usqp=CAU - AT: C:\\LTQ\\Nam_3\\Multimedia\\House\\                                                                                                                                                    36.jpg\n",
      "SAVED - https://encrypted-tbn0.gstatic.com/images?q=tbn:ANd9GcQ0hWgPivItM8Gil5oDvMbHkzCXuhd__ziVLw&usqp=CAU - AT: C:\\LTQ\\Nam_3\\Multimedia\\House\\                                                                                                                                                    37.jpg\n",
      "SAVED - https://encrypted-tbn0.gstatic.com/images?q=tbn:ANd9GcQk_kuNnQYgCBaluUTevYimGNklrOvvdmzP-g&usqp=CAU - AT: C:\\LTQ\\Nam_3\\Multimedia\\House\\                                                                                                                                                    38.jpg\n",
      "SAVED - https://encrypted-tbn0.gstatic.com/images?q=tbn:ANd9GcSyf-JsiVK-ZLxVs1ms8sJ8Ni49xkPuZ3PJSA&usqp=CAU - AT: C:\\LTQ\\Nam_3\\Multimedia\\House\\                                                                                                                                                    39.jpg\n",
      "SAVED - https://encrypted-tbn0.gstatic.com/images?q=tbn:ANd9GcSmSZgm0fy8LdteocCIkyX9_mVv1DT_j0jKLQ&usqp=CAU - AT: C:\\LTQ\\Nam_3\\Multimedia\\House\\                                                                                                                                                    40.jpg\n",
      "ERROR - COULD NOT SAVE https://www.publicdomainpictures.net/pictures/30000/nahled/old-english-house.jpg - cannot identify image file <_io.BytesIO object at 0x00C37DC0>\n",
      "SAVED - https://p2.piqsels.com/preview/551/3/749/architecture-family-house-front-yard-garage.jpg - AT: C:\\LTQ\\Nam_3\\Multimedia\\House\\                                                                                                                                                    42.jpg\n",
      "SAVED - https://encrypted-tbn0.gstatic.com/images?q=tbn:ANd9GcSOhBlzTzRfEdMcna85bMiZgrBHYLAjLUUZsA&usqp=CAU - AT: C:\\LTQ\\Nam_3\\Multimedia\\House\\                                                                                                                                                    43.jpg\n",
      "SAVED - https://cdn.pixabay.com/photo/2021/03/14/19/34/house-6095214_960_720.png - AT: C:\\LTQ\\Nam_3\\Multimedia\\House\\                                                                                                                                                    44.jpg\n",
      "SAVED - https://encrypted-tbn0.gstatic.com/images?q=tbn:ANd9GcS6mpkk1L6Fc4_efsXU7SXrxVwa9vDTjzYuvg&usqp=CAU - AT: C:\\LTQ\\Nam_3\\Multimedia\\House\\                                                                                                                                                    45.jpg\n",
      "SAVED - https://www.nps.gov/gate/learn/historyculture/images/GATE_MontsecHouse_23Aug05_Schneider_1.jpg?maxwidth=1200&autorotate=false - AT: C:\\LTQ\\Nam_3\\Multimedia\\House\\                                                                                                                                                    46.jpg\n",
      "SAVED - https://encrypted-tbn0.gstatic.com/images?q=tbn:ANd9GcT5aa3pk__3jbZmxtpd2w4tAJcRam-e9wJ9Kg&usqp=CAU - AT: C:\\LTQ\\Nam_3\\Multimedia\\House\\                                                                                                                                                    47.jpg\n",
      "SAVED - https://encrypted-tbn0.gstatic.com/images?q=tbn:ANd9GcTz1RgFEDWfjgNkrZBc6HvWsRbZ0Ayxv0mo3Q&usqp=CAU - AT: C:\\LTQ\\Nam_3\\Multimedia\\House\\                                                                                                                                                    48.jpg\n",
      "SAVED - https://encrypted-tbn0.gstatic.com/images?q=tbn:ANd9GcSEnQjQa-b7RUZ1s-x9-mBapxJ1vXjYj4bT-A&usqp=CAU - AT: C:\\LTQ\\Nam_3\\Multimedia\\House\\                                                                                                                                                    49.jpg\n",
      "SAVED - https://live.staticflickr.com/1341/1347565498_2874ef351a_b.jpg - AT: C:\\LTQ\\Nam_3\\Multimedia\\House\\                                                                                                                                                    50.jpg\n",
      "ERROR - COULD NOT SAVE https://upload.wikimedia.org/wikipedia/commons/0/0c/Tiny_house%2C_Portland.jpg - cannot identify image file <_io.BytesIO object at 0x00C47E10>\n",
      "ERROR - COULD NOT DOWNLOAD https://arquitecturaviva.com/assets/uploads/obras/45247/av_medium__av_57561.jpeg?h=453dcc5d - HTTPSConnectionPool(host='arquitecturaviva.com', port=443): Max retries exceeded with url: /assets/uploads/obras/45247/av_medium__av_57561.jpeg?h=453dcc5d (Caused by SSLError(SSLCertVerificationError(1, '[SSL: CERTIFICATE_VERIFY_FAILED] certificate verify failed: unable to get local issuer certificate (_ssl.c:1123)')))\n",
      "ERROR - COULD NOT SAVE https://arquitecturaviva.com/assets/uploads/obras/45247/av_medium__av_57561.jpeg?h=453dcc5d - cannot identify image file <_io.BytesIO object at 0x00C2AFC8>\n",
      "SAVED - https://upload.wikimedia.org/wikipedia/commons/b/b0/Mai_Chau_stilt_house.jpg - AT: C:\\LTQ\\Nam_3\\Multimedia\\House\\                                                                                                                                                    53.jpg\n",
      "SAVED - https://encrypted-tbn0.gstatic.com/images?q=tbn:ANd9GcRNQMIPHyAfWQFbAMTbiue-gQIP-7bYph6iXQ&usqp=CAU - AT: C:\\LTQ\\Nam_3\\Multimedia\\House\\                                                                                                                                                    54.jpg\n",
      "SAVED - https://p1.pxfuel.com/preview/483/855/732/lawn-house-driveway-suburb-entrance-hdr.jpg - AT: C:\\LTQ\\Nam_3\\Multimedia\\House\\                                                                                                                                                    55.jpg\n",
      "ERROR - COULD NOT SAVE https://upload.wikimedia.org/wikipedia/commons/0/0f/An_early_variant_of_Turning_Mill_house.jpg - cannot identify image file <_io.BytesIO object at 0x00C33CA8>\n",
      "SAVED - https://encrypted-tbn0.gstatic.com/images?q=tbn:ANd9GcTNmWtovzuqf-VCzYNHgLbpPaO-cVneJdMyWQ&usqp=CAU - AT: C:\\LTQ\\Nam_3\\Multimedia\\House\\                                                                                                                                                    57.jpg\n"
     ]
    },
    {
     "name": "stdout",
     "output_type": "stream",
     "text": [
      "SAVED - https://encrypted-tbn0.gstatic.com/images?q=tbn:ANd9GcR65yROBiY_Rrp1JJKE56Uu1OL_35Wk3qozDA&usqp=CAU - AT: C:\\LTQ\\Nam_3\\Multimedia\\House\\                                                                                                                                                    58.jpg\n",
      "ERROR - COULD NOT SAVE https://www.publicdomainpictures.net/pictures/90000/nahled/house-clipart.jpg - cannot identify image file <_io.BytesIO object at 0x00C1AF28>\n",
      "SAVED - https://encrypted-tbn0.gstatic.com/images?q=tbn:ANd9GcTJEwXJlw7PeIWZVE3HwyO04hNpkoi3LrtyUw&usqp=CAU - AT: C:\\LTQ\\Nam_3\\Multimedia\\House\\                                                                                                                                                    60.jpg\n",
      "SAVED - https://encrypted-tbn0.gstatic.com/images?q=tbn:ANd9GcTsxBsEoesNJ1eNMBAoLWvEvC45kmeckoBM8w&usqp=CAU - AT: C:\\LTQ\\Nam_3\\Multimedia\\House\\                                                                                                                                                    61.jpg\n"
     ]
    }
   ],
   "source": [
    "for i, url in enumerate(img_urls):\n",
    "    file_name = f\"{i:150}.jpg\"    \n",
    "    try:\n",
    "        image_content = requests.get(url).content\n",
    "\n",
    "    except Exception as e:\n",
    "        print(f\"ERROR - COULD NOT DOWNLOAD {url} - {e}\")\n",
    "\n",
    "    try:\n",
    "            image_file = io.BytesIO(image_content)\n",
    "            image = Image.open(image_file).convert('RGB')\n",
    "            \n",
    "            file_path = os.path.join(baseDir, file_name)\n",
    "            \n",
    "            with open(file_path, 'wb') as f:\n",
    "                image.save(f, \"JPEG\", quality=85)\n",
    "                print(f\"SAVED - {url} - AT: {file_path}\")\n",
    "    except Exception as e:\n",
    "            print(f\"ERROR - COULD NOT SAVE {url} - {e}\")"
   ]
  },
  {
   "cell_type": "code",
   "execution_count": null,
   "metadata": {},
   "outputs": [],
   "source": []
  }
 ],
 "metadata": {
  "kernelspec": {
   "display_name": "Python 3 (ipykernel)",
   "language": "python",
   "name": "python3"
  },
  "language_info": {
   "codemirror_mode": {
    "name": "ipython",
    "version": 3
   },
   "file_extension": ".py",
   "mimetype": "text/x-python",
   "name": "python",
   "nbconvert_exporter": "python",
   "pygments_lexer": "ipython3",
   "version": "3.8.5"
  }
 },
 "nbformat": 4,
 "nbformat_minor": 4
}
